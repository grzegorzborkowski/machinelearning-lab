{
 "cells": [
  {
   "cell_type": "code",
   "execution_count": 3,
   "metadata": {
    "collapsed": true
   },
   "outputs": [],
   "source": [
    "from sklearn import svm\n",
    "from sklearn.datasets import make_classification\n",
    "import matplotlib.pyplot as plt\n",
    "import numpy as np\n",
    "from PIL import Image"
   ]
  },
  {
   "cell_type": "code",
   "execution_count": 61,
   "metadata": {},
   "outputs": [],
   "source": [
    "def prepare_dataset():\n",
    "    X, Y = make_classification(n_features=2, n_redundant=0, n_informative=2,\n",
    "                             n_clusters_per_class=1, n_samples = 100, hypercube = True,\n",
    "                              class_sep = 0.5, flip_y = 0.1, random_state=35)\n",
    "    \n",
    "    blob_x = np.array([\n",
    "        [1.2, -0.5],\n",
    "        [1.0, 0.5],\n",
    "        [1.0, 0.1],\n",
    "        [1.0, -0.8]\n",
    "    ])\n",
    "    blob_y = np.array([0, 0, 0, 0])\n",
    "    X = np.concatenate((X, blob_x), axis=0)\n",
    "    Y = np.concatenate((Y, blob_y), axis=0)\n",
    "    plt.scatter(X[:, 0], X[: ,1], c=Y)\n",
    "    plt.show()\n",
    "    return X, Y"
   ]
  },
  {
   "cell_type": "code",
   "execution_count": 122,
   "metadata": {
    "collapsed": true
   },
   "outputs": [],
   "source": []
  },
  {
   "cell_type": "code",
   "execution_count": 67,
   "metadata": {},
   "outputs": [
    {
     "data": {
      "image/png": "[encoded data removed]",
      "text/plain": [
       "<matplotlib.figure.Figure at 0x7fc2a69c0fd0>"
      ]
     },
     "metadata": {},
     "output_type": "display_data"
    }
   ],
   "source": [
    "X, Y = prepare_dataset()"
   ]
  },
  {
   "cell_type": "code",
   "execution_count": 63,
   "metadata": {
    "collapsed": true
   },
   "outputs": [],
   "source": [
    "from matplotlib.colors import ListedColormap\n",
    "\n",
    "cmap_light = ListedColormap(['#FFAAAF', '#AAFFAA', '#AAAAFF'])\n",
    "cmap_bold = ListedColormap(['#FF0000', '#00FF00', '#0000FF'])\n",
    "\n",
    "def map_color(x):\n",
    "    if x==0:\n",
    "        return '#FFAAAA'\n",
    "    if x==1:\n",
    "        return '#AAFFAA'\n",
    "    return '#AAAAFF'\n",
    "\n",
    "def map_color_bold(x):\n",
    "    if x==0:\n",
    "        return '#FF0000'\n",
    "    if x==1:\n",
    "        #return '#00FF00'\n",
    "        return '#0000FF'\n",
    "    return '#0000FF'\n",
    "\n",
    "def map_edge_colors(x):\n",
    "    if x==0:\n",
    "        return '#D01B1B'\n",
    "    if x==1:\n",
    "        return '#51D01B'"
   ]
  },
  {
   "cell_type": "code",
   "execution_count": 64,
   "metadata": {
    "collapsed": true
   },
   "outputs": [],
   "source": [
    "def create_clf(X, Y, kernel, C, gamma):\n",
    "    clf = svm.SVC(kernel=kernel, C=C, gamma=gamma, degree=3)\n",
    "    clf.fit(X, Y)\n",
    "    w = clf.dual_coef_.dot(clf.support_vectors_)\n",
    "    margin = 2 / (np.sqrt(np.sum((w ** 2))))\n",
    "    score = clf.score(X, Y) * 100\n",
    "    plt.clf()\n",
    "    plot_decision_boundary(X, Y, clf, kernel, C, gamma)\n",
    "    return margin, score, clf\n",
    "    #print(\"coef_ \" + str(clf.coef_))"
   ]
  },
  {
   "cell_type": "code",
   "execution_count": 65,
   "metadata": {
    "collapsed": true
   },
   "outputs": [],
   "source": [
    "def plot_decision_boundary(X, Y, clf, kernel, C, gamma, step=0.1):\n",
    "    x_min, x_max = X[:, 0].min() - 1, X[:, 0].max() + 1\n",
    "    y_min, y_max = X[:, 1].min() - 1, X[:, 1].max() + 1\n",
    "    XX, YY = np.meshgrid(np.arange(x_min, x_max, step),\n",
    "                        (np.arange(y_min, y_max, step)))\n",
    "    # decision boundary\n",
    "    Z = clf.predict(np.c_[XX.ravel(), YY.ravel()])\n",
    "    Z = Z.reshape(XX.shape)\n",
    "    plt.contour(XX, YY, Z, levels=[-1, 0, 1], alpha=0.01, linestyles=['--', '-', '--'], color='red')\n",
    "    \n",
    "    # plot colors && points\n",
    "    grid = np.array(np.c_[XX.ravel(), YY.ravel()])\n",
    "    Z = clf.predict(grid)\n",
    "    Z = Z.reshape(XX.shape)\n",
    "    plt.pcolormesh(XX, YY, Z, cmap=cmap_light)\n",
    "    col = []\n",
    "    for color in Y:\n",
    "        col.append(map_color_bold(color))\n",
    "    plt.scatter(X[:, 0], X[:, 1], c=col,  marker='x', s=30, alpha=1,)\n",
    "    fig_ame = kernel + \"_\" + str(C) + \"_\" + str(gamma)\n",
    "    plt.savefig('plots/' + fig_ame + '.png')"
   ]
  },
  {
   "cell_type": "code",
   "execution_count": 71,
   "metadata": {},
   "outputs": [],
   "source": [
    "#X, Y = prepare_dataset()\n",
    "\n",
    "class result():\n",
    "    \n",
    "    def __init__(self, C, gamma, margin, score):\n",
    "        self.C = C\n",
    "        self.gamma = gamma\n",
    "        self.margin = margin\n",
    "        self.score = score\n",
    "\n",
    "def experiment():\n",
    "    result_dict = {\"linear\": [], \"poly\": [], \"rbf\": []}\n",
    "    for kernel in ['linear', 'poly', 'rbf']:\n",
    "        for C in [0.001, 0.01, 0.1, 1]:\n",
    "            for gamma in [0.01, 0.1, 1]:\n",
    "                margin, score, clf = create_clf(X, Y, kernel=kernel, C=C, gamma=gamma)\n",
    "                result_dict[kernel].append(result(C, gamma, margin, score))\n",
    "                plot_decision_boundary(X, Y,  clf, kernel=kernel, C=C, gamma=gamma)\n",
    "    return result_dict\n",
    "\n",
    "result_dict = experiment()\n",
    "\n",
    "    #kernel = 'poly' \n",
    "#C = 0.01\n",
    "#gamma = 0.1\n",
    "#margin, score, clf = create_clf(X, Y, kernel=kernel, C=C, gamma=gamma)\n",
    "#print (\"margin: \" + str(margin) + \" score:\" + str(score))\n"
   ]
  },
  {
   "cell_type": "code",
   "execution_count": 72,
   "metadata": {
    "collapsed": true
   },
   "outputs": [],
   "source": [
    "# TODO: implement that\n",
    "def plot_margin_scores(kernel):\n",
    "    results = result_dict[kernel]\n",
    "    X = []\n",
    "    Y = [] \n",
    "    margin = []\n",
    "    scores = []\n",
    "    for result in results:\n",
    "        X.append(result.C)\n",
    "        Y.append(result.gamma)\n",
    "        margin.append(result.margin)\n",
    "        scores.append(result.score)\n",
    "\n",
    "    print (X)\n",
    "    plt.figure(figsize=(20,20))\n",
    "    ind = np.arange(len(X))\n",
    "    width = 0.5\n",
    "    labels_X = zip(X, Y)\n",
    "    print(labels_X)\n",
    "    plt.xlabel('Para (C, gamma)', fontsize=25)\n",
    "    plt.ylabel('Margines', fontsize=25)\n",
    "    plt.bar(ind, margin, width)\n",
    "    plt.xticks(ind, (labels_X), fontsize=14)\n",
    "    plt.yticks(fontsize=20)\n",
    "    plt_name = kernel + 'margines.png'\n",
    "    plt.savefig('plots_finals/' + plt_name)\n",
    "    \n",
    "    ###\n",
    "    print (X)\n",
    "    plt.figure(figsize=(20,20))\n",
    "    ind = np.arange(len(X))\n",
    "    width = 0.5\n",
    "    labels_X = zip(X, Y)\n",
    "    print(labels_X)\n",
    "    plt.xlabel('Para (C, gamma)', fontsize=25)\n",
    "    plt.ylabel('Score', fontsize=25)\n",
    "    plt.bar(ind, scores, width)\n",
    "    plt.xticks(ind, (labels_X), fontsize=14)\n",
    "    plt.yticks(fontsize=20)\n",
    "    plt_name = kernel + 'score.png'\n",
    "    plt.savefig('plots_finals/' + plt_name)\n",
    "    \n",
    "    "
   ]
  },
  {
   "cell_type": "code",
   "execution_count": 73,
   "metadata": {},
   "outputs": [
    {
     "name": "stdout",
     "output_type": "stream",
     "text": [
      "[0.001, 0.001, 0.001, 0.01, 0.01, 0.01, 0.1, 0.1, 0.1, 1, 1, 1]\n",
      "<zip object at 0x7fc2a6a726c8>\n",
      "[0.001, 0.001, 0.001, 0.01, 0.01, 0.01, 0.1, 0.1, 0.1, 1, 1, 1]\n",
      "<zip object at 0x7fc2a6eaff48>\n",
      "[0.001, 0.001, 0.001, 0.01, 0.01, 0.01, 0.1, 0.1, 0.1, 1, 1, 1]\n",
      "<zip object at 0x7fc2a6cc8448>\n",
      "[0.001, 0.001, 0.001, 0.01, 0.01, 0.01, 0.1, 0.1, 0.1, 1, 1, 1]\n",
      "<zip object at 0x7fc2a381d408>\n",
      "[0.001, 0.001, 0.001, 0.01, 0.01, 0.01, 0.1, 0.1, 0.1, 1, 1, 1]\n",
      "<zip object at 0x7fc2a4080408>\n",
      "[0.001, 0.001, 0.001, 0.01, 0.01, 0.01, 0.1, 0.1, 0.1, 1, 1, 1]\n",
      "<zip object at 0x7fc2a152dbc8>\n"
     ]
    }
   ],
   "source": [
    "plot_margin_scores('linear')\n",
    "plot_margin_scores('rbf')\n",
    "plot_margin_scores('poly')"
   ]
  }
 ],
 "metadata": {
  "kernelspec": {
   "display_name": "Python 3",
   "language": "python",
   "name": "python3"
  },
  "language_info": {
   "codemirror_mode": {
    "name": "ipython",
    "version": 3
   },
   "file_extension": ".py",
   "mimetype": "text/x-python",
   "name": "python",
   "nbconvert_exporter": "python",
   "pygments_lexer": "ipython3",
   "version": "3.6.1"
  }
 },
 "nbformat": 4,
 "nbformat_minor": 1
}
