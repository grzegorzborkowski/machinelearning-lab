{
 "cells": [
  {
   "cell_type": "code",
   "execution_count": 373,
   "metadata": {},
   "outputs": [],
   "source": [
    "import numpy\n",
    "import pandas\n",
    "import sklearn.model_selection\n",
    "from sklearn.neighbors import KNeighborsClassifier\n",
    "import sklearn.metrics\n",
    "import matplotlib.pyplot as plt\n",
    "from matplotlib.colors import ListedColormap\n",
    "from sklearn.neighbors import DistanceMetric\n",
    "from sklearn.neighbors import BallTree, KDTree"
   ]
  },
  {
   "cell_type": "code",
   "execution_count": 467,
   "metadata": {},
   "outputs": [],
   "source": [
    "def group_wine_by_quality(quality):\n",
    "    if (quality <= 4):\n",
    "        return 0\n",
    "    if (quality <= 5):\n",
    "        return 1\n",
    "    if (quality <= 6):\n",
    "        return 2\n",
    "    if (quality <= 7):\n",
    "        return 3\n",
    "    return 4"
   ]
  },
  {
   "cell_type": "code",
   "execution_count": 473,
   "metadata": {},
   "outputs": [
    {
     "name": "stdout",
     "output_type": "stream",
     "text": [
      "Index(['fixed acidity', 'volatile acidity', 'citric acid', 'residual sugar',\n",
      "       'chlorides', 'free sulfur dioxide', 'total sulfur dioxide', 'density',\n",
      "       'pH', 'sulphates', 'alcohol', 'quality'],\n",
      "      dtype='object')\n"
     ]
    },
    {
     "data": {
      "image/png": "[encoded data removed]",
      "text/plain": [
       "<matplotlib.figure.Figure at 0x7f1cfcd60be0>"
      ]
     },
     "metadata": {},
     "output_type": "display_data"
    }
   ],
   "source": [
    "# zbior 1\n",
    "\n",
    "wine_white = pandas.read_csv(\"data/winequality-white.csv\", delimiter=\";\")\n",
    "print(wine_white.columns)\n",
    "wine_white['quality_4_classes'] = wine_white['quality'].map(lambda x: group_wine_by_quality(x))\n",
    "\n",
    "wine_white = wine_white[:1000]\n",
    "plt.hist(wine_white['quality_4_classes'])\n",
    "plt.show()\n",
    "columns = ['pH', 'alcohol', 'quality_4_classes']\n",
    "wine_white = pandas.DataFrame(wine_white, columns=columns)\n",
    "X = wine_white.drop('quality_4_classes', axis=1)\n",
    "Y = wine_white['quality_4_classes']\n",
    "train_to_test_ratio = 0.8\n",
    "split_idx = (int)(train_to_test_ratio * len(X))\n",
    "X_train = X[:split_idx]\n",
    "X_test = X[split_idx:]\n",
    "Y_train = Y[:split_idx]\n",
    "Y_test = Y[split_idx:]"
   ]
  },
  {
   "cell_type": "code",
   "execution_count": null,
   "metadata": {
    "collapsed": true
   },
   "outputs": [],
   "source": []
  },
  {
   "cell_type": "code",
   "execution_count": 469,
   "metadata": {},
   "outputs": [],
   "source": [
    "#knn = KNeighborsClassifier(n_neighbors=1,  metric='mahalanobis', metric_params={'V': numpy.cov(X.T)})\n",
    "knn = KNeighborsClassifier(n_neighbors=1)\n",
    "knn.fit(X_train, Y_train)\n",
    "Y_predicted = knn.predict(X_test)"
   ]
  },
  {
   "cell_type": "code",
   "execution_count": 470,
   "metadata": {},
   "outputs": [
    {
     "data": {
      "text/plain": [
       "0.32500000000000001"
      ]
     },
     "execution_count": 470,
     "metadata": {},
     "output_type": "execute_result"
    }
   ],
   "source": [
    "sklearn.metrics.accuracy_score(Y_test, Y_predicted)"
   ]
  },
  {
   "cell_type": "code",
   "execution_count": 471,
   "metadata": {},
   "outputs": [
    {
     "name": "stdout",
     "output_type": "stream",
     "text": [
      "2.85 3.72\n"
     ]
    },
    {
     "data": {
      "image/png": "[encoded data removed]",
      "text/plain": [
       "<matplotlib.figure.Figure at 0x7f1cfd39fba8>"
      ]
     },
     "metadata": {},
     "output_type": "display_data"
    }
   ],
   "source": [
    "residual = X['pH']\n",
    "x_min, x_max = residual.min(), residual.max()\n",
    "x_min, x_max\n",
    "print (x_min, x_max)\n",
    "alcohol = X['alcohol']\n",
    "y_min, y_max = alcohol.min(), alcohol.max()\n",
    "h = 0.01\n",
    "xx, yy = numpy.meshgrid(numpy.arange(x_min-2, x_max+2, h), numpy.arange(y_min-2, y_max+2, h))\n",
    "\n",
    "Z = knn.predict(numpy.c_[xx.ravel(), yy.ravel()])\n",
    "Z = Z.reshape(xx.shape)\n",
    "plt.figure(figsize=(10,10))\n",
    "#plt.pcolormesh(xx, yy, Z, cmap=ListedColormap(['green', 'white', 'blue', 'red', 'pink', 'yellow']))\n",
    "#plt.pcolormesh(xx, yy, Z, cmap=ListedColormap(['green', 'blue', 'white', 'red', 'yellow' ]))\n",
    "plt.pcolormesh(xx, yy, Z)\n",
    "#plt.scatter(X[:, 0], X[:, 1], c=y, cmap=cmap_bold, edgecolor='k', s=20)\n",
    "plt.show()"
   ]
  }
 ],
 "metadata": {
  "kernelspec": {
   "display_name": "Python 3",
   "language": "python",
   "name": "python3"
  },
  "language_info": {
   "codemirror_mode": {
    "name": "ipython",
    "version": 3
   },
   "file_extension": ".py",
   "mimetype": "text/x-python",
   "name": "python",
   "nbconvert_exporter": "python",
   "pygments_lexer": "ipython3",
   "version": "3.6.1"
  }
 },
 "nbformat": 4,
 "nbformat_minor": 2
}
