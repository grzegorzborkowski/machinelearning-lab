{
 "cells": [
  {
   "cell_type": "code",
   "execution_count": 1,
   "metadata": {
    "collapsed": true
   },
   "outputs": [],
   "source": [
    "import scipy\n",
    "import numpy as np\n",
    "import matplotlib.pyplot as plt\n",
    "import itertools"
   ]
  },
  {
   "cell_type": "code",
   "execution_count": 16,
   "metadata": {
    "collapsed": true
   },
   "outputs": [],
   "source": [
    "number_of_points = 100\n",
    "radius = 1\n",
    "number_of_tests = 25"
   ]
  },
  {
   "cell_type": "code",
   "execution_count": 3,
   "metadata": {
    "collapsed": true
   },
   "outputs": [],
   "source": [
    "def generate_points_within_cube(number_of_points, dimensions, radius):\n",
    "    cube = np.empty((0, dimensions), float)\n",
    "    for point in range(number_of_points):\n",
    "        point = np.random.uniform(-radius, radius, size=dimensions)\n",
    "        cube = np.append(cube, point)\n",
    "    return np.split(cube, number_of_points)"
   ]
  },
  {
   "cell_type": "code",
   "execution_count": 4,
   "metadata": {
    "collapsed": true
   },
   "outputs": [],
   "source": [
    "def distance_from_sphere_center(point):\n",
    "    sum = 0.0\n",
    "    for elem in point:\n",
    "        sum = sum + elem*elem\n",
    "    return np.sqrt(sum)"
   ]
  },
  {
   "cell_type": "code",
   "execution_count": 5,
   "metadata": {
    "collapsed": true
   },
   "outputs": [],
   "source": [
    "def distance_from_two_points(first, second):\n",
    "    assert len(first) == len(second)\n",
    "    dist = 0.0\n",
    "    for idx in range(0, len(first)):\n",
    "        dist = dist + np.power(first[idx]-second[idx], 2)\n",
    "    return dist"
   ]
  },
  {
   "cell_type": "code",
   "execution_count": 6,
   "metadata": {
    "collapsed": true
   },
   "outputs": [],
   "source": [
    "def check_if_point_within_sphere(point, radius):\n",
    "    dist_from_center = distance_from_sphere_center(point)\n",
    "    if dist_from_center < radius:\n",
    "        return True\n",
    "    return False"
   ]
  },
  {
   "cell_type": "code",
   "execution_count": 7,
   "metadata": {
    "collapsed": true
   },
   "outputs": [],
   "source": [
    "def calculate_points_within_sphere(number_of_points, dimensions, radius):\n",
    "    points = generate_points_within_cube(number_of_points, dimensions, radius)\n",
    "    number_of_hit_within_sphere = 0\n",
    "    for point in points:\n",
    "        res = check_if_point_within_sphere(point, radius)\n",
    "        if res:\n",
    "            number_of_hit_within_sphere += 1\n",
    "    return number_of_hit_within_sphere / number_of_points"
   ]
  },
  {
   "cell_type": "code",
   "execution_count": 8,
   "metadata": {
    "collapsed": true
   },
   "outputs": [],
   "source": [
    "def calculate_results_A(number_of_tests, number_of_points, dimensions, radius):\n",
    "    results = []\n",
    "    for test in range(number_of_tests):\n",
    "        result = calculate_points_within_sphere(number_of_points, dimensions, radius)\n",
    "        results.append(result)\n",
    "    return results, np.mean(results), np.std(results)"
   ]
  },
  {
   "cell_type": "code",
   "execution_count": 9,
   "metadata": {
    "collapsed": true
   },
   "outputs": [],
   "source": [
    "def calculate_results_B(number_of_tests, number_of_points, dimensions):\n",
    "    results = []\n",
    "    for test in range(number_of_tests):\n",
    "        points = generate_points_within_cube(number_of_points, dimensions, 1)\n",
    "        dists = []\n",
    "        for first, second in itertools.combinations(points, 2):\n",
    "            dists.append(distance_from_two_points(first, second))\n",
    "        mean_value = np.mean(dists)\n",
    "        std_value = np.std(dists)\n",
    "        results.append(std_value / mean_value * 100)\n",
    "    return results, np.mean(results), np.std(results)"
   ]
  },
  {
   "cell_type": "code",
   "execution_count": 15,
   "metadata": {},
   "outputs": [
    {
     "data": {
      "image/png": "[encoded data removed]",
      "text/plain": [
       "<matplotlib.figure.Figure at 0x7f9e8e1d8b70>"
      ]
     },
     "metadata": {},
     "output_type": "display_data"
    }
   ],
   "source": [
    "# task: A\n",
    "\n",
    "dims = []\n",
    "means = []\n",
    "stds = []\n",
    "\n",
    "for dim in range (2, 10):\n",
    "   dims.append(dim)\n",
    "   _, mean, std = calculate_results_A(number_of_tests, number_of_points, dim, radius)\n",
    "   means.append(mean*100)\n",
    "   stds.append(std*100)\n",
    "    \n",
    "plt.xlabel('Dimension')\n",
    "plt.ylabel('Percent of points inside sphere')\n",
    "plt.errorbar(dims, means, stds, fmt='o', ecolor='blue', mec='purple', ms=3, mew=3)\n",
    "plt.show()"
   ]
  },
  {
   "cell_type": "code",
   "execution_count": 13,
   "metadata": {},
   "outputs": [
    {
     "name": "stdout",
     "output_type": "stream",
     "text": [
      "[68.382991561350579, 59.260276155137447, 52.655282630217904, 48.349357179504857, 44.633252304897312, 41.814317979654895, 39.449321182562784]\n",
      "[1.715131241126961, 1.4616515039525657, 1.3078538492283249, 1.0041786955681125, 1.0490962696724198, 0.81030387867919196, 0.8484672448526378]\n"
     ]
    },
    {
     "data": {
      "image/png": "[encoded data removed]",
      "text/plain": [
       "<matplotlib.figure.Figure at 0x7f9e8e15cdd8>"
      ]
     },
     "metadata": {},
     "output_type": "display_data"
    }
   ],
   "source": [
    "# task B\n",
    "dims = []\n",
    "means = []\n",
    "stds = []\n",
    "\n",
    "for dim in range(3, 10):\n",
    "    dims.append(dim)\n",
    "    _, mean, std = calculate_results_B(number_of_tests, number_of_points, dim)\n",
    "    means.append(mean)\n",
    "    stds.append(std)\n",
    "\n",
    "plt.xlabel('Dimension')\n",
    "plt.ylabel('Means to stds ratio')\n",
    "print (means)\n",
    "print (stds)\n",
    "plt.errorbar(dims, means, stds, fmt='o', ecolor='blue', mec='purple', ms=3, mew=3)\n",
    "plt.show()"
   ]
  }
 ],
 "metadata": {
  "kernelspec": {
   "display_name": "Python 3",
   "language": "python",
   "name": "python3"
  },
  "language_info": {
   "codemirror_mode": {
    "name": "ipython",
    "version": 3
   },
   "file_extension": ".py",
   "mimetype": "text/x-python",
   "name": "python",
   "nbconvert_exporter": "python",
   "pygments_lexer": "ipython3",
   "version": "3.6.1"
  }
 },
 "nbformat": 4,
 "nbformat_minor": 2
}
