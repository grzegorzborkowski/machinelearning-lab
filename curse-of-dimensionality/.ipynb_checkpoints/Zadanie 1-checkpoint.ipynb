{
 "cells": [
  {
   "cell_type": "code",
   "execution_count": 5,
   "metadata": {
    "collapsed": true
   },
   "outputs": [],
   "source": [
    "import scipy\n",
    "import numpy as np\n",
    "import matplotlib.pyplot as plt"
   ]
  },
  {
   "cell_type": "code",
   "execution_count": 9,
   "metadata": {
    "collapsed": true
   },
   "outputs": [],
   "source": [
    "number_of_points = 1000\n",
    "radius = 1\n",
    "number_of_tests = 100"
   ]
  },
  {
   "cell_type": "code",
   "execution_count": 2,
   "metadata": {
    "collapsed": true
   },
   "outputs": [],
   "source": [
    "def generate_points_within_cube(number_of_points, dimensions, radius):\n",
    "    cube = np.empty((0, dimensions), float)\n",
    "    for point in range(number_of_points):\n",
    "        point = np.random.uniform(-radius, radius, size=dimensions)\n",
    "        cube = np.append(cube, point)\n",
    "    return np.split(cube, number_of_points)"
   ]
  },
  {
   "cell_type": "code",
   "execution_count": 3,
   "metadata": {
    "collapsed": true
   },
   "outputs": [],
   "source": [
    "def distance_from_sphere_center(point):\n",
    "    sum = 0.0\n",
    "    for elem in point:\n",
    "        sum = sum + elem*elem\n",
    "    return np.sqrt(sum)"
   ]
  },
  {
   "cell_type": "code",
   "execution_count": 4,
   "metadata": {
    "collapsed": true
   },
   "outputs": [],
   "source": [
    "def check_if_point_within_sphere(point, radius):\n",
    "    dist_from_center = distance_from_sphere_center(point)\n",
    "    if dist_from_center < radius:\n",
    "        return True\n",
    "    return False"
   ]
  },
  {
   "cell_type": "code",
   "execution_count": 6,
   "metadata": {
    "collapsed": true
   },
   "outputs": [],
   "source": [
    "def calculate_points_within_sphere(number_of_points, dimensions, radius):\n",
    "    points = generate_points_within_cube(number_of_points, dimensions, radius)\n",
    "    number_of_hit_within_sphere = 0\n",
    "    for point in points:\n",
    "        res = check_if_point_within_sphere(point, radius)\n",
    "        if res:\n",
    "            number_of_hit_within_sphere += 1\n",
    "    return number_of_hit_within_sphere / number_of_points"
   ]
  },
  {
   "cell_type": "code",
   "execution_count": 7,
   "metadata": {
    "collapsed": true
   },
   "outputs": [],
   "source": [
    "def calculate_results(number_of_tests, number_of_points, dimensions, radius):\n",
    "    results = []\n",
    "    for test in range(number_of_tests):\n",
    "        result = calculate_points_within_sphere(number_of_points, dimensions, radius)\n",
    "        results.append(result)\n",
    "    return results, np.mean(results), np.std(results)"
   ]
  },
  {
   "cell_type": "code",
   "execution_count": null,
   "metadata": {},
   "outputs": [],
   "source": [
    "dims = []\n",
    "means = []\n",
    "stds = []\n",
    "\n",
    "for dim in range (2, 10):\n",
    "   dims.append(dim)\n",
    "   _, mean, std = calculate_results(number_of_tests, number_of_points, dim, radius)\n",
    "   means.append(mean)\n",
    "   stds.append(std)\n",
    "    \n",
    "plt.errorbar(dims, means, stds, fmt='o', ecolor='blue', mec='purple', ms=2, mew=4)\n",
    "plt.show()"
   ]
  }
 ],
 "metadata": {
  "kernelspec": {
   "display_name": "Python 3",
   "language": "python",
   "name": "python3"
  },
  "language_info": {
   "codemirror_mode": {
    "name": "ipython",
    "version": 3
   },
   "file_extension": ".py",
   "mimetype": "text/x-python",
   "name": "python",
   "nbconvert_exporter": "python",
   "pygments_lexer": "ipython3",
   "version": "3.6.1"
  }
 },
 "nbformat": 4,
 "nbformat_minor": 2
}
